{
 "cells": [
  {
   "cell_type": "markdown",
   "id": "33595e9c",
   "metadata": {},
   "source": [
    "# Import Libraries"
   ]
  },
  {
   "cell_type": "code",
   "execution_count": 1,
   "id": "201bb1c7",
   "metadata": {},
   "outputs": [],
   "source": [
    "# Import relevant libraries and packages.\n",
    "import numpy as np \n",
    "import pandas as pd \n",
    "import matplotlib.pyplot as plt \n",
    "import seaborn as sns # For all our visualization needs.\n",
    "import statsmodels.api as sm\n",
    "from sklearn.metrics import mean_squared_error, r2_score, mean_absolute_error\n",
    "from sklearn.model_selection import train_test_split, cross_validate, learning_curve, RandomizedSearchCV, cross_val_score\n",
    "from sklearn import linear_model, preprocessing\n",
    "from sklearn.linear_model import LinearRegression\n",
    "from sklearn.preprocessing import StandardScaler\n",
    "from sklearn import __version__ as sklearn_version\n",
    "from sklearn.model_selection import cross_validate\n",
    "from sklearn.ensemble import RandomForestClassifier, GradientBoostingClassifier\n",
    "from sklearn.metrics import make_scorer, accuracy_score, classification_report, precision_score, recall_score, roc_auc_score, roc_curve, f1_score\n",
    "from sklearn.pipeline import make_pipeline\n",
    "from imblearn.over_sampling import RandomOverSampler\n",
    "import warnings # For handling error messages.\n",
    "warnings.simplefilter(action=\"ignore\", category=FutureWarning)\n",
    "warnings.filterwarnings(action=\"ignore\", module=\"scipy\", message=\"^internal gelsd\")"
   ]
  },
  {
   "cell_type": "markdown",
   "id": "a1de1a33",
   "metadata": {},
   "source": [
    "# Load file"
   ]
  },
  {
   "cell_type": "code",
   "execution_count": 2,
   "id": "38268cd2",
   "metadata": {},
   "outputs": [],
   "source": [
    "df = pd.read_csv('C:/Users/Raymnd Diaz/Desktop/Capstone2/data/processed_data.csv').drop(['Unnamed: 0'],axis=1)"
   ]
  },
  {
   "cell_type": "code",
   "execution_count": 3,
   "id": "e749960d",
   "metadata": {},
   "outputs": [],
   "source": [
    "# one hot encoding type column because it is a categorical variable\n",
    "type_dummies = pd.get_dummies(df['type'])\n",
    "df = pd.concat([df,type_dummies],axis=1).drop(['type'],axis=1)"
   ]
  },
  {
   "cell_type": "code",
   "execution_count": 4,
   "id": "71c79f8c",
   "metadata": {},
   "outputs": [
    {
     "data": {
      "text/html": [
       "<div>\n",
       "<style scoped>\n",
       "    .dataframe tbody tr th:only-of-type {\n",
       "        vertical-align: middle;\n",
       "    }\n",
       "\n",
       "    .dataframe tbody tr th {\n",
       "        vertical-align: top;\n",
       "    }\n",
       "\n",
       "    .dataframe thead th {\n",
       "        text-align: right;\n",
       "    }\n",
       "</style>\n",
       "<table border=\"1\" class=\"dataframe\">\n",
       "  <thead>\n",
       "    <tr style=\"text-align: right;\">\n",
       "      <th></th>\n",
       "      <th>amount</th>\n",
       "      <th>oldbalanceOrg</th>\n",
       "      <th>newbalanceOrig</th>\n",
       "      <th>oldbalanceDest</th>\n",
       "      <th>newbalanceDest</th>\n",
       "      <th>isFraud</th>\n",
       "      <th>CASH_IN</th>\n",
       "      <th>CASH_OUT</th>\n",
       "      <th>DEBIT</th>\n",
       "      <th>PAYMENT</th>\n",
       "      <th>TRANSFER</th>\n",
       "    </tr>\n",
       "  </thead>\n",
       "  <tbody>\n",
       "    <tr>\n",
       "      <th>0</th>\n",
       "      <td>9839.64</td>\n",
       "      <td>170136.0</td>\n",
       "      <td>160296.36</td>\n",
       "      <td>0.0</td>\n",
       "      <td>0.0</td>\n",
       "      <td>0</td>\n",
       "      <td>0</td>\n",
       "      <td>0</td>\n",
       "      <td>0</td>\n",
       "      <td>1</td>\n",
       "      <td>0</td>\n",
       "    </tr>\n",
       "    <tr>\n",
       "      <th>1</th>\n",
       "      <td>1864.28</td>\n",
       "      <td>21249.0</td>\n",
       "      <td>19384.72</td>\n",
       "      <td>0.0</td>\n",
       "      <td>0.0</td>\n",
       "      <td>0</td>\n",
       "      <td>0</td>\n",
       "      <td>0</td>\n",
       "      <td>0</td>\n",
       "      <td>1</td>\n",
       "      <td>0</td>\n",
       "    </tr>\n",
       "    <tr>\n",
       "      <th>2</th>\n",
       "      <td>181.00</td>\n",
       "      <td>181.0</td>\n",
       "      <td>0.00</td>\n",
       "      <td>0.0</td>\n",
       "      <td>0.0</td>\n",
       "      <td>1</td>\n",
       "      <td>0</td>\n",
       "      <td>0</td>\n",
       "      <td>0</td>\n",
       "      <td>0</td>\n",
       "      <td>1</td>\n",
       "    </tr>\n",
       "    <tr>\n",
       "      <th>3</th>\n",
       "      <td>181.00</td>\n",
       "      <td>181.0</td>\n",
       "      <td>0.00</td>\n",
       "      <td>21182.0</td>\n",
       "      <td>0.0</td>\n",
       "      <td>1</td>\n",
       "      <td>0</td>\n",
       "      <td>1</td>\n",
       "      <td>0</td>\n",
       "      <td>0</td>\n",
       "      <td>0</td>\n",
       "    </tr>\n",
       "    <tr>\n",
       "      <th>4</th>\n",
       "      <td>11668.14</td>\n",
       "      <td>41554.0</td>\n",
       "      <td>29885.86</td>\n",
       "      <td>0.0</td>\n",
       "      <td>0.0</td>\n",
       "      <td>0</td>\n",
       "      <td>0</td>\n",
       "      <td>0</td>\n",
       "      <td>0</td>\n",
       "      <td>1</td>\n",
       "      <td>0</td>\n",
       "    </tr>\n",
       "  </tbody>\n",
       "</table>\n",
       "</div>"
      ],
      "text/plain": [
       "     amount  oldbalanceOrg  newbalanceOrig  oldbalanceDest  newbalanceDest  \\\n",
       "0   9839.64       170136.0       160296.36             0.0             0.0   \n",
       "1   1864.28        21249.0        19384.72             0.0             0.0   \n",
       "2    181.00          181.0            0.00             0.0             0.0   \n",
       "3    181.00          181.0            0.00         21182.0             0.0   \n",
       "4  11668.14        41554.0        29885.86             0.0             0.0   \n",
       "\n",
       "   isFraud  CASH_IN  CASH_OUT  DEBIT  PAYMENT  TRANSFER  \n",
       "0        0        0         0      0        1         0  \n",
       "1        0        0         0      0        1         0  \n",
       "2        1        0         0      0        0         1  \n",
       "3        1        0         1      0        0         0  \n",
       "4        0        0         0      0        1         0  "
      ]
     },
     "execution_count": 4,
     "metadata": {},
     "output_type": "execute_result"
    }
   ],
   "source": [
    "df.head()"
   ]
  },
  {
   "cell_type": "markdown",
   "id": "32274a7e",
   "metadata": {},
   "source": [
    "# OLS Regression Model\n",
    "\n",
    "Run a basic OLS regression model to see the performance of a regression model on this synthetic fraud data set"
   ]
  },
  {
   "cell_type": "code",
   "execution_count": 19,
   "id": "cc4f8797",
   "metadata": {},
   "outputs": [],
   "source": [
    "# Create test and train datasets\n",
    "X = df.drop(['isFraud'],axis=1)\n",
    "\n",
    "# Create constants for X, so the model knows its bounds\n",
    "X = sm.add_constant(X)\n",
    "y = df[['isFraud']]\n",
    "\n",
    "# Split the data\n",
    "X_train, X_test, y_train, y_test = train_test_split(X, y, test_size = 0.25, random_state = 123)"
   ]
  },
  {
   "cell_type": "code",
   "execution_count": 20,
   "id": "6e8ea43d",
   "metadata": {},
   "outputs": [],
   "source": [
    "# Create the model\n",
    "model = sm.OLS(y_train,X_train)\n",
    "\n",
    "# Fit the model with fit() \n",
    "model_results = model.fit()"
   ]
  },
  {
   "cell_type": "code",
   "execution_count": 21,
   "id": "26555aef",
   "metadata": {},
   "outputs": [
    {
     "data": {
      "text/html": [
       "<table class=\"simpletable\">\n",
       "<caption>OLS Regression Results</caption>\n",
       "<tr>\n",
       "  <th>Dep. Variable:</th>         <td>isFraud</td>     <th>  R-squared:         </th>  <td>   0.181</td> \n",
       "</tr>\n",
       "<tr>\n",
       "  <th>Model:</th>                   <td>OLS</td>       <th>  Adj. R-squared:    </th>  <td>   0.181</td> \n",
       "</tr>\n",
       "<tr>\n",
       "  <th>Method:</th>             <td>Least Squares</td>  <th>  F-statistic:       </th>  <td>1.169e+05</td>\n",
       "</tr>\n",
       "<tr>\n",
       "  <th>Date:</th>             <td>Sat, 04 Feb 2023</td> <th>  Prob (F-statistic):</th>   <td>  0.00</td>  \n",
       "</tr>\n",
       "<tr>\n",
       "  <th>Time:</th>                 <td>00:00:45</td>     <th>  Log-Likelihood:    </th> <td>9.5851e+06</td>\n",
       "</tr>\n",
       "<tr>\n",
       "  <th>No. Observations:</th>      <td>4771965</td>     <th>  AIC:               </th> <td>-1.917e+07</td>\n",
       "</tr>\n",
       "<tr>\n",
       "  <th>Df Residuals:</th>          <td>4771955</td>     <th>  BIC:               </th> <td>-1.917e+07</td>\n",
       "</tr>\n",
       "<tr>\n",
       "  <th>Df Model:</th>              <td>     9</td>      <th>                     </th>      <td> </td>    \n",
       "</tr>\n",
       "<tr>\n",
       "  <th>Covariance Type:</th>      <td>nonrobust</td>    <th>                     </th>      <td> </td>    \n",
       "</tr>\n",
       "</table>\n",
       "<table class=\"simpletable\">\n",
       "<tr>\n",
       "         <td></td>           <th>coef</th>     <th>std err</th>      <th>t</th>      <th>P>|t|</th>  <th>[0.025</th>    <th>0.975]</th>  \n",
       "</tr>\n",
       "<tr>\n",
       "  <th>const</th>          <td>    0.0027</td> <td> 3.39e-05</td> <td>   80.817</td> <td> 0.000</td> <td>    0.003</td> <td>    0.003</td>\n",
       "</tr>\n",
       "<tr>\n",
       "  <th>amount</th>         <td> 9.452e-09</td> <td> 4.92e-11</td> <td>  192.153</td> <td> 0.000</td> <td> 9.36e-09</td> <td> 9.55e-09</td>\n",
       "</tr>\n",
       "<tr>\n",
       "  <th>oldbalanceOrg</th>  <td> 1.202e-07</td> <td> 1.22e-10</td> <td>  985.088</td> <td> 0.000</td> <td>  1.2e-07</td> <td>  1.2e-07</td>\n",
       "</tr>\n",
       "<tr>\n",
       "  <th>newbalanceOrig</th> <td>-1.203e-07</td> <td> 1.22e-10</td> <td> -983.622</td> <td> 0.000</td> <td>-1.21e-07</td> <td> -1.2e-07</td>\n",
       "</tr>\n",
       "<tr>\n",
       "  <th>oldbalanceDest</th> <td>   6.8e-09</td> <td> 3.59e-11</td> <td>  189.540</td> <td> 0.000</td> <td> 6.73e-09</td> <td> 6.87e-09</td>\n",
       "</tr>\n",
       "<tr>\n",
       "  <th>newbalanceDest</th> <td>-6.908e-09</td> <td> 3.56e-11</td> <td> -193.937</td> <td> 0.000</td> <td>-6.98e-09</td> <td>-6.84e-09</td>\n",
       "</tr>\n",
       "<tr>\n",
       "  <th>CASH_IN</th>        <td>    0.0157</td> <td> 5.03e-05</td> <td>  311.807</td> <td> 0.000</td> <td>    0.016</td> <td>    0.016</td>\n",
       "</tr>\n",
       "<tr>\n",
       "  <th>CASH_OUT</th>       <td>   -0.0045</td> <td> 3.93e-05</td> <td> -113.932</td> <td> 0.000</td> <td>   -0.005</td> <td>   -0.004</td>\n",
       "</tr>\n",
       "<tr>\n",
       "  <th>DEBIT</th>          <td>   -0.0029</td> <td>    0.000</td> <td>  -18.880</td> <td> 0.000</td> <td>   -0.003</td> <td>   -0.003</td>\n",
       "</tr>\n",
       "<tr>\n",
       "  <th>PAYMENT</th>        <td>   -0.0036</td> <td> 3.97e-05</td> <td>  -91.110</td> <td> 0.000</td> <td>   -0.004</td> <td>   -0.004</td>\n",
       "</tr>\n",
       "<tr>\n",
       "  <th>TRANSFER</th>       <td>   -0.0019</td> <td> 5.68e-05</td> <td>  -34.087</td> <td> 0.000</td> <td>   -0.002</td> <td>   -0.002</td>\n",
       "</tr>\n",
       "</table>\n",
       "<table class=\"simpletable\">\n",
       "<tr>\n",
       "  <th>Omnibus:</th>       <td>11692452.746</td> <th>  Durbin-Watson:     </th>     <td>   1.999</td>    \n",
       "</tr>\n",
       "<tr>\n",
       "  <th>Prob(Omnibus):</th>    <td> 0.000</td>    <th>  Jarque-Bera (JB):  </th> <td>116920220497.490</td>\n",
       "</tr>\n",
       "<tr>\n",
       "  <th>Skew:</th>             <td>26.476</td>    <th>  Prob(JB):          </th>     <td>    0.00</td>    \n",
       "</tr>\n",
       "<tr>\n",
       "  <th>Kurtosis:</th>         <td>768.004</td>   <th>  Cond. No.          </th>     <td>2.45e+19</td>    \n",
       "</tr>\n",
       "</table><br/><br/>Notes:<br/>[1] Standard Errors assume that the covariance matrix of the errors is correctly specified.<br/>[2] The smallest eigenvalue is 2.28e-19. This might indicate that there are<br/>strong multicollinearity problems or that the design matrix is singular."
      ],
      "text/plain": [
       "<class 'statsmodels.iolib.summary.Summary'>\n",
       "\"\"\"\n",
       "                            OLS Regression Results                            \n",
       "==============================================================================\n",
       "Dep. Variable:                isFraud   R-squared:                       0.181\n",
       "Model:                            OLS   Adj. R-squared:                  0.181\n",
       "Method:                 Least Squares   F-statistic:                 1.169e+05\n",
       "Date:                Sat, 04 Feb 2023   Prob (F-statistic):               0.00\n",
       "Time:                        00:00:45   Log-Likelihood:             9.5851e+06\n",
       "No. Observations:             4771965   AIC:                        -1.917e+07\n",
       "Df Residuals:                 4771955   BIC:                        -1.917e+07\n",
       "Df Model:                           9                                         \n",
       "Covariance Type:            nonrobust                                         \n",
       "==================================================================================\n",
       "                     coef    std err          t      P>|t|      [0.025      0.975]\n",
       "----------------------------------------------------------------------------------\n",
       "const              0.0027   3.39e-05     80.817      0.000       0.003       0.003\n",
       "amount          9.452e-09   4.92e-11    192.153      0.000    9.36e-09    9.55e-09\n",
       "oldbalanceOrg   1.202e-07   1.22e-10    985.088      0.000     1.2e-07     1.2e-07\n",
       "newbalanceOrig -1.203e-07   1.22e-10   -983.622      0.000   -1.21e-07    -1.2e-07\n",
       "oldbalanceDest    6.8e-09   3.59e-11    189.540      0.000    6.73e-09    6.87e-09\n",
       "newbalanceDest -6.908e-09   3.56e-11   -193.937      0.000   -6.98e-09   -6.84e-09\n",
       "CASH_IN            0.0157   5.03e-05    311.807      0.000       0.016       0.016\n",
       "CASH_OUT          -0.0045   3.93e-05   -113.932      0.000      -0.005      -0.004\n",
       "DEBIT             -0.0029      0.000    -18.880      0.000      -0.003      -0.003\n",
       "PAYMENT           -0.0036   3.97e-05    -91.110      0.000      -0.004      -0.004\n",
       "TRANSFER          -0.0019   5.68e-05    -34.087      0.000      -0.002      -0.002\n",
       "==============================================================================\n",
       "Omnibus:                 11692452.746   Durbin-Watson:                   1.999\n",
       "Prob(Omnibus):                  0.000   Jarque-Bera (JB):     116920220497.490\n",
       "Skew:                          26.476   Prob(JB):                         0.00\n",
       "Kurtosis:                     768.004   Cond. No.                     2.45e+19\n",
       "==============================================================================\n",
       "\n",
       "Notes:\n",
       "[1] Standard Errors assume that the covariance matrix of the errors is correctly specified.\n",
       "[2] The smallest eigenvalue is 2.28e-19. This might indicate that there are\n",
       "strong multicollinearity problems or that the design matrix is singular.\n",
       "\"\"\""
      ]
     },
     "execution_count": 21,
     "metadata": {},
     "output_type": "execute_result"
    }
   ],
   "source": [
    "# Evaluate the model\n",
    "model_results.summary()"
   ]
  },
  {
   "cell_type": "markdown",
   "id": "b52571a3",
   "metadata": {},
   "source": [
    "We can see here all variables except CASH_IN, oldBalanceOrg, oldBalanceDest and amount correlate with isFraud. What happens if we remove those and re-run the experiment?"
   ]
  },
  {
   "cell_type": "markdown",
   "id": "f1aab2c3",
   "metadata": {},
   "source": [
    "# Filtered down OLS Regression Model"
   ]
  },
  {
   "cell_type": "code",
   "execution_count": 22,
   "id": "76b428c9",
   "metadata": {},
   "outputs": [],
   "source": [
    "# Create test and train datasets\n",
    "X = df[['amount','oldbalanceOrg','oldbalanceDest','CASH_IN']]\n",
    "\n",
    "# Create constants for X, so the model knows its bounds\n",
    "X = sm.add_constant(X)\n",
    "y = df[['isFraud']]\n",
    "\n",
    "# Split the data\n",
    "X_train, X_test, y_train, y_test = train_test_split(X, y, test_size = 0.25, random_state = 123)"
   ]
  },
  {
   "cell_type": "code",
   "execution_count": 23,
   "id": "7e186aaf",
   "metadata": {},
   "outputs": [],
   "source": [
    "# Create the model\n",
    "model2 = sm.OLS(y_train,X_train)\n",
    "\n",
    "# Fit the model with fit() \n",
    "model2_results = model2.fit()"
   ]
  },
  {
   "cell_type": "code",
   "execution_count": 24,
   "id": "32f0efec",
   "metadata": {},
   "outputs": [
    {
     "data": {
      "text/html": [
       "<table class=\"simpletable\">\n",
       "<caption>OLS Regression Results</caption>\n",
       "<tr>\n",
       "  <th>Dep. Variable:</th>         <td>isFraud</td>     <th>  R-squared:         </th>  <td>   0.007</td> \n",
       "</tr>\n",
       "<tr>\n",
       "  <th>Model:</th>                   <td>OLS</td>       <th>  Adj. R-squared:    </th>  <td>   0.007</td> \n",
       "</tr>\n",
       "<tr>\n",
       "  <th>Method:</th>             <td>Least Squares</td>  <th>  F-statistic:       </th>  <td>   8867.</td> \n",
       "</tr>\n",
       "<tr>\n",
       "  <th>Date:</th>             <td>Sat, 04 Feb 2023</td> <th>  Prob (F-statistic):</th>   <td>  0.00</td>  \n",
       "</tr>\n",
       "<tr>\n",
       "  <th>Time:</th>                 <td>00:00:52</td>     <th>  Log-Likelihood:    </th> <td>9.1273e+06</td>\n",
       "</tr>\n",
       "<tr>\n",
       "  <th>No. Observations:</th>      <td>4771965</td>     <th>  AIC:               </th> <td>-1.825e+07</td>\n",
       "</tr>\n",
       "<tr>\n",
       "  <th>Df Residuals:</th>          <td>4771960</td>     <th>  BIC:               </th> <td>-1.825e+07</td>\n",
       "</tr>\n",
       "<tr>\n",
       "  <th>Df Model:</th>              <td>     4</td>      <th>                     </th>      <td> </td>    \n",
       "</tr>\n",
       "<tr>\n",
       "  <th>Covariance Type:</th>      <td>nonrobust</td>    <th>                     </th>      <td> </td>    \n",
       "</tr>\n",
       "</table>\n",
       "<table class=\"simpletable\">\n",
       "<tr>\n",
       "         <td></td>           <th>coef</th>     <th>std err</th>      <th>t</th>      <th>P>|t|</th>  <th>[0.025</th>    <th>0.975]</th>  \n",
       "</tr>\n",
       "<tr>\n",
       "  <th>const</th>          <td>    0.0010</td> <td> 1.95e-05</td> <td>   52.829</td> <td> 0.000</td> <td>    0.001</td> <td>    0.001</td>\n",
       "</tr>\n",
       "<tr>\n",
       "  <th>amount</th>         <td> 4.982e-09</td> <td> 2.82e-11</td> <td>  176.400</td> <td> 0.000</td> <td> 4.93e-09</td> <td> 5.04e-09</td>\n",
       "</tr>\n",
       "<tr>\n",
       "  <th>oldbalanceOrg</th>  <td> 3.377e-10</td> <td> 6.56e-12</td> <td>   51.486</td> <td> 0.000</td> <td> 3.25e-10</td> <td> 3.51e-10</td>\n",
       "</tr>\n",
       "<tr>\n",
       "  <th>oldbalanceDest</th> <td>-3.189e-10</td> <td> 5.03e-12</td> <td>  -63.367</td> <td> 0.000</td> <td>-3.29e-10</td> <td>-3.09e-10</td>\n",
       "</tr>\n",
       "<tr>\n",
       "  <th>CASH_IN</th>        <td>   -0.0026</td> <td> 4.59e-05</td> <td>  -56.167</td> <td> 0.000</td> <td>   -0.003</td> <td>   -0.002</td>\n",
       "</tr>\n",
       "</table>\n",
       "<table class=\"simpletable\">\n",
       "<tr>\n",
       "  <th>Omnibus:</th>       <td>11860061.984</td> <th>  Durbin-Watson:     </th>     <td>   1.999</td>    \n",
       "</tr>\n",
       "<tr>\n",
       "  <th>Prob(Omnibus):</th>    <td> 0.000</td>    <th>  Jarque-Bera (JB):  </th> <td>115674249425.426</td>\n",
       "</tr>\n",
       "<tr>\n",
       "  <th>Skew:</th>             <td>27.501</td>    <th>  Prob(JB):          </th>     <td>    0.00</td>    \n",
       "</tr>\n",
       "<tr>\n",
       "  <th>Kurtosis:</th>         <td>763.752</td>   <th>  Cond. No.          </th>     <td>1.05e+07</td>    \n",
       "</tr>\n",
       "</table><br/><br/>Notes:<br/>[1] Standard Errors assume that the covariance matrix of the errors is correctly specified.<br/>[2] The condition number is large, 1.05e+07. This might indicate that there are<br/>strong multicollinearity or other numerical problems."
      ],
      "text/plain": [
       "<class 'statsmodels.iolib.summary.Summary'>\n",
       "\"\"\"\n",
       "                            OLS Regression Results                            \n",
       "==============================================================================\n",
       "Dep. Variable:                isFraud   R-squared:                       0.007\n",
       "Model:                            OLS   Adj. R-squared:                  0.007\n",
       "Method:                 Least Squares   F-statistic:                     8867.\n",
       "Date:                Sat, 04 Feb 2023   Prob (F-statistic):               0.00\n",
       "Time:                        00:00:52   Log-Likelihood:             9.1273e+06\n",
       "No. Observations:             4771965   AIC:                        -1.825e+07\n",
       "Df Residuals:                 4771960   BIC:                        -1.825e+07\n",
       "Df Model:                           4                                         \n",
       "Covariance Type:            nonrobust                                         \n",
       "==================================================================================\n",
       "                     coef    std err          t      P>|t|      [0.025      0.975]\n",
       "----------------------------------------------------------------------------------\n",
       "const              0.0010   1.95e-05     52.829      0.000       0.001       0.001\n",
       "amount          4.982e-09   2.82e-11    176.400      0.000    4.93e-09    5.04e-09\n",
       "oldbalanceOrg   3.377e-10   6.56e-12     51.486      0.000    3.25e-10    3.51e-10\n",
       "oldbalanceDest -3.189e-10   5.03e-12    -63.367      0.000   -3.29e-10   -3.09e-10\n",
       "CASH_IN           -0.0026   4.59e-05    -56.167      0.000      -0.003      -0.002\n",
       "==============================================================================\n",
       "Omnibus:                 11860061.984   Durbin-Watson:                   1.999\n",
       "Prob(Omnibus):                  0.000   Jarque-Bera (JB):     115674249425.426\n",
       "Skew:                          27.501   Prob(JB):                         0.00\n",
       "Kurtosis:                     763.752   Cond. No.                     1.05e+07\n",
       "==============================================================================\n",
       "\n",
       "Notes:\n",
       "[1] Standard Errors assume that the covariance matrix of the errors is correctly specified.\n",
       "[2] The condition number is large, 1.05e+07. This might indicate that there are\n",
       "strong multicollinearity or other numerical problems.\n",
       "\"\"\""
      ]
     },
     "execution_count": 24,
     "metadata": {},
     "output_type": "execute_result"
    }
   ],
   "source": [
    "# Evaluate the model\n",
    "model2_results.summary()"
   ]
  },
  {
   "cell_type": "markdown",
   "id": "7f4a8dc5",
   "metadata": {},
   "source": [
    "Based on both regression model performances, it appears that regression models are not the correct choice for this specific dataset.\n",
    "\n",
    "When removing the other variable, it apppears to reduce to performance of the model significantly, so lets try keeping them all in when we run our random forest models. "
   ]
  },
  {
   "cell_type": "markdown",
   "id": "3f1f22df",
   "metadata": {},
   "source": [
    "# Random Forest Model Cross Validiate"
   ]
  },
  {
   "cell_type": "code",
   "execution_count": 4,
   "id": "feeec37d",
   "metadata": {},
   "outputs": [],
   "source": [
    "features = df.drop('isFraud',axis=1)\n",
    "labels = df.isFraud"
   ]
  },
  {
   "cell_type": "code",
   "execution_count": 10,
   "id": "4284a1ba",
   "metadata": {},
   "outputs": [],
   "source": [
    "X_train, X_test, y_train, y_test = train_test_split(features, \n",
    "                                                    labels, test_size=0.25, \n",
    "                                                    random_state=42)"
   ]
  },
  {
   "cell_type": "markdown",
   "id": "9b8cf426",
   "metadata": {},
   "source": [
    "There are no missing values in this dataset, so we don't have to impute any values"
   ]
  },
  {
   "cell_type": "code",
   "execution_count": 27,
   "id": "2f517410",
   "metadata": {},
   "outputs": [],
   "source": [
    "RF_pipe = make_pipeline(\n",
    "    StandardScaler(),\n",
    "    RandomForestClassifier(random_state=42, n_estimators=10)\n",
    ")"
   ]
  },
  {
   "cell_type": "code",
   "execution_count": 28,
   "id": "20787d6c",
   "metadata": {},
   "outputs": [],
   "source": [
    "rf_default_cv_results = cross_validate(RF_pipe, X_train, y_train, cv=5)"
   ]
  },
  {
   "cell_type": "code",
   "execution_count": 29,
   "id": "b77f6f1a",
   "metadata": {},
   "outputs": [
    {
     "data": {
      "text/plain": [
       "array([0.99965318, 0.99963432, 0.99967938, 0.99968671, 0.99965318])"
      ]
     },
     "execution_count": 29,
     "metadata": {},
     "output_type": "execute_result"
    }
   ],
   "source": [
    "rf_cv_scores = rf_default_cv_results['test_score']\n",
    "rf_cv_scores"
   ]
  },
  {
   "cell_type": "code",
   "execution_count": 30,
   "id": "47195405",
   "metadata": {},
   "outputs": [
    {
     "data": {
      "text/plain": [
       "(0.9996613554374351, 1.914211398729672e-05)"
      ]
     },
     "execution_count": 30,
     "metadata": {},
     "output_type": "execute_result"
    }
   ],
   "source": [
    "np.mean(rf_cv_scores), np.std(rf_cv_scores)"
   ]
  },
  {
   "cell_type": "markdown",
   "id": "99ca5ff5",
   "metadata": {},
   "source": [
    "# Run Random Forest Model"
   ]
  },
  {
   "cell_type": "code",
   "execution_count": 31,
   "id": "234d7566",
   "metadata": {},
   "outputs": [],
   "source": [
    "rf = RandomForestClassifier(n_estimators = 10, random_state = 42)"
   ]
  },
  {
   "cell_type": "code",
   "execution_count": 32,
   "id": "ac131cbe",
   "metadata": {},
   "outputs": [
    {
     "data": {
      "text/plain": [
       "RandomForestClassifier(n_estimators=10, random_state=42)"
      ]
     },
     "execution_count": 32,
     "metadata": {},
     "output_type": "execute_result"
    }
   ],
   "source": [
    "rf.fit(X_train, y_train)"
   ]
  },
  {
   "cell_type": "code",
   "execution_count": 33,
   "id": "f23e7691",
   "metadata": {},
   "outputs": [],
   "source": [
    "train_probs = rf.predict_proba(X_train)[:,1] \n",
    "probs = rf.predict_proba(X_test)[:, 1]"
   ]
  },
  {
   "cell_type": "code",
   "execution_count": 34,
   "id": "8f3b680a",
   "metadata": {},
   "outputs": [],
   "source": [
    "y_pred_test = rf.predict(X_test)"
   ]
  },
  {
   "cell_type": "code",
   "execution_count": 35,
   "id": "a58a685c",
   "metadata": {},
   "outputs": [
    {
     "data": {
      "text/plain": [
       "0.9996718333013759"
      ]
     },
     "execution_count": 35,
     "metadata": {},
     "output_type": "execute_result"
    }
   ],
   "source": [
    "accuracy_score(y_test, y_pred_test) "
   ]
  },
  {
   "cell_type": "code",
   "execution_count": 36,
   "id": "f907a04e",
   "metadata": {},
   "outputs": [
    {
     "name": "stdout",
     "output_type": "stream",
     "text": [
      "              precision    recall  f1-score   support\n",
      "\n",
      "           0       1.00      1.00      1.00   1588610\n",
      "           1       0.96      0.78      0.86      2045\n",
      "\n",
      "    accuracy                           1.00   1590655\n",
      "   macro avg       0.98      0.89      0.93   1590655\n",
      "weighted avg       1.00      1.00      1.00   1590655\n",
      "\n"
     ]
    }
   ],
   "source": [
    "# View the classification report for test data and predictions\n",
    "print(classification_report(y_test, y_pred_test))"
   ]
  },
  {
   "cell_type": "markdown",
   "id": "d51f02d0",
   "metadata": {},
   "source": [
    "Wow, really interesting to see here that the accuracy score is 99.96% \n",
    "\n",
    "When we look at the classification report, we can see that predict correctly 96% of the time the fraudulent transactions and capture 78% of them"
   ]
  },
  {
   "cell_type": "code",
   "execution_count": 37,
   "id": "29520de5",
   "metadata": {
    "scrolled": true
   },
   "outputs": [
    {
     "name": "stdout",
     "output_type": "stream",
     "text": [
      "Train ROC AUC Score: 0.9999997166396842\n",
      "Test ROC AUC  Score: 0.9759375149338239\n"
     ]
    }
   ],
   "source": [
    "print(f'Train ROC AUC Score: {roc_auc_score(y_train, train_probs)}')\n",
    "print(f'Test ROC AUC  Score: {roc_auc_score(y_test, probs)}')"
   ]
  },
  {
   "cell_type": "code",
   "execution_count": 38,
   "id": "091ca03a",
   "metadata": {},
   "outputs": [
    {
     "data": {
      "image/png": "[encoded data removed]",
      "text/plain": [
       "<Figure size 576x432 with 1 Axes>"
      ]
     },
     "metadata": {
      "needs_background": "light"
     },
     "output_type": "display_data"
    }
   ],
   "source": [
    "base_fpr, base_tpr, _ = roc_curve(y_test, [1 for _ in range(len(y_test))])\n",
    "model_fpr, model_tpr, _ = roc_curve(y_test, probs)\n",
    "plt.figure(figsize = (8, 6))\n",
    "plt.rcParams['font.size'] = 16\n",
    "# Plot both curves\n",
    "plt.plot(base_fpr, base_tpr, 'b', label = 'baseline')\n",
    "plt.plot(model_fpr, model_tpr, 'r', label = 'model')\n",
    "plt.legend();\n",
    "plt.xlabel('False Positive Rate');\n",
    "plt.ylabel('True Positive Rate'); plt.title('ROC Curve');\n",
    "plt.show();"
   ]
  },
  {
   "cell_type": "markdown",
   "id": "bdfcce9b",
   "metadata": {},
   "source": [
    "# Random search w/ RandomSearchCV"
   ]
  },
  {
   "cell_type": "markdown",
   "id": "2648ea8e",
   "metadata": {},
   "source": [
    "Using RandomSearchCV as opposed to GridSearchCV due to the large nature of the data set"
   ]
  },
  {
   "cell_type": "code",
   "execution_count": 39,
   "id": "c08f12e0",
   "metadata": {
    "scrolled": true
   },
   "outputs": [
    {
     "data": {
      "text/plain": [
       "dict_keys(['bootstrap', 'ccp_alpha', 'class_weight', 'criterion', 'max_depth', 'max_features', 'max_leaf_nodes', 'max_samples', 'min_impurity_decrease', 'min_samples_leaf', 'min_samples_split', 'min_weight_fraction_leaf', 'n_estimators', 'n_jobs', 'oob_score', 'random_state', 'verbose', 'warm_start'])"
      ]
     },
     "execution_count": 39,
     "metadata": {},
     "output_type": "execute_result"
    }
   ],
   "source": [
    "rf.get_params().keys()"
   ]
  },
  {
   "cell_type": "code",
   "execution_count": 40,
   "id": "5ba3b17e",
   "metadata": {},
   "outputs": [],
   "source": [
    "# Number of trees in random forest\n",
    "n_estimators = [int(x) for x in np.linspace(start = 5, stop = 50, num = 5)]\n",
    "# Number of features to consider at every split\n",
    "max_features = ['auto', 'sqrt']\n",
    "# Maximum number of levels in tree\n",
    "max_depth = [int(x) for x in np.linspace(1, 10, num = 1)]\n",
    "max_depth.append(None)\n",
    "# Minimum number of samples required to split a node\n",
    "min_samples_split = [2, 5, 10]\n",
    "# Minimum number of samples required at each leaf node\n",
    "min_samples_leaf = [1, 2, 4]\n",
    "# Method of selecting samples for training each tree\n",
    "bootstrap = [True, False]\n",
    "# Create the random grid\n",
    "random_grid = {'n_estimators': n_estimators,\n",
    "               'max_features': max_features,\n",
    "               'max_depth': max_depth,\n",
    "               'min_samples_split': min_samples_split,\n",
    "               'min_samples_leaf': min_samples_leaf,\n",
    "               'bootstrap': bootstrap}"
   ]
  },
  {
   "cell_type": "code",
   "execution_count": null,
   "id": "e3c6e7cc",
   "metadata": {},
   "outputs": [],
   "source": [
    "print ('Random grid: ', random_grid, '\\n')"
   ]
  },
  {
   "cell_type": "code",
   "execution_count": 41,
   "id": "053c597c",
   "metadata": {},
   "outputs": [],
   "source": [
    "rf_random = RandomizedSearchCV(\n",
    "    estimator = rf, \n",
    "    param_distributions = random_grid, \n",
    "    n_iter = 50, # setting this to 50 to ensure confidence\n",
    "    cv = 5, verbose=2, \n",
    "    random_state=42, \n",
    "    n_jobs = -1)"
   ]
  },
  {
   "cell_type": "code",
   "execution_count": 42,
   "id": "6164aa95",
   "metadata": {
    "scrolled": false
   },
   "outputs": [
    {
     "name": "stdout",
     "output_type": "stream",
     "text": [
      "Fitting 5 folds for each of 50 candidates, totalling 250 fits\n"
     ]
    },
    {
     "data": {
      "text/plain": [
       "RandomizedSearchCV(cv=5,\n",
       "                   estimator=RandomForestClassifier(n_estimators=10,\n",
       "                                                    random_state=42),\n",
       "                   n_iter=50, n_jobs=-1,\n",
       "                   param_distributions={'bootstrap': [True, False],\n",
       "                                        'max_depth': [1, None],\n",
       "                                        'max_features': ['auto', 'sqrt'],\n",
       "                                        'min_samples_leaf': [1, 2, 4],\n",
       "                                        'min_samples_split': [2, 5, 10],\n",
       "                                        'n_estimators': [5, 16, 27, 38, 50]},\n",
       "                   random_state=42, verbose=2)"
      ]
     },
     "execution_count": 42,
     "metadata": {},
     "output_type": "execute_result"
    }
   ],
   "source": [
    "rf_random.fit(X_train, y_train)"
   ]
  },
  {
   "cell_type": "code",
   "execution_count": 43,
   "id": "a6a175b9",
   "metadata": {},
   "outputs": [
    {
     "data": {
      "text/plain": [
       "{'n_estimators': 50,\n",
       " 'min_samples_split': 2,\n",
       " 'min_samples_leaf': 1,\n",
       " 'max_features': 'sqrt',\n",
       " 'max_depth': None,\n",
       " 'bootstrap': True}"
      ]
     },
     "execution_count": 43,
     "metadata": {},
     "output_type": "execute_result"
    }
   ],
   "source": [
    "rf_random.best_params_"
   ]
  },
  {
   "cell_type": "code",
   "execution_count": 44,
   "id": "60328282",
   "metadata": {},
   "outputs": [],
   "source": [
    "random_predict = rf_random.best_estimator_"
   ]
  },
  {
   "cell_type": "code",
   "execution_count": 45,
   "id": "072c9775",
   "metadata": {},
   "outputs": [],
   "source": [
    "results = random_predict.predict(X_test)"
   ]
  },
  {
   "cell_type": "code",
   "execution_count": 49,
   "id": "b7c4c1dd",
   "metadata": {},
   "outputs": [
    {
     "data": {
      "text/plain": [
       "0.9996831493944318"
      ]
     },
     "execution_count": 49,
     "metadata": {},
     "output_type": "execute_result"
    }
   ],
   "source": [
    "accuracy_score(y_test, results)"
   ]
  },
  {
   "cell_type": "code",
   "execution_count": 50,
   "id": "9f990bab",
   "metadata": {},
   "outputs": [
    {
     "name": "stdout",
     "output_type": "stream",
     "text": [
      "              precision    recall  f1-score   support\n",
      "\n",
      "           0       1.00      1.00      1.00   1588610\n",
      "           1       0.96      0.79      0.86      2045\n",
      "\n",
      "    accuracy                           1.00   1590655\n",
      "   macro avg       0.98      0.89      0.93   1590655\n",
      "weighted avg       1.00      1.00      1.00   1590655\n",
      "\n"
     ]
    }
   ],
   "source": [
    "# View the classification report for test data and predictions\n",
    "print(classification_report(y_test, results))"
   ]
  },
  {
   "cell_type": "code",
   "execution_count": 54,
   "id": "fc1f3e8c",
   "metadata": {},
   "outputs": [],
   "source": [
    "train_probs2 = random_predict.predict_proba(X_train)[:,1] \n",
    "probs2 = random_predict.predict_proba(X_test)[:, 1]"
   ]
  },
  {
   "cell_type": "code",
   "execution_count": 57,
   "id": "80652078",
   "metadata": {},
   "outputs": [
    {
     "name": "stdout",
     "output_type": "stream",
     "text": [
      "Train ROC AUC Score: 0.999999999268594\n",
      "Test ROC AUC  Score: 0.9913151070281814\n"
     ]
    }
   ],
   "source": [
    "print(f'Train ROC AUC Score: {roc_auc_score(y_train, train_probs2)}')\n",
    "print(f'Test ROC AUC  Score: {roc_auc_score(y_test, probs2)}')"
   ]
  },
  {
   "cell_type": "code",
   "execution_count": 56,
   "id": "e4303828",
   "metadata": {
    "scrolled": true
   },
   "outputs": [
    {
     "data": {
      "image/png": "[encoded data removed]",
      "text/plain": [
       "<Figure size 576x432 with 1 Axes>"
      ]
     },
     "metadata": {
      "needs_background": "light"
     },
     "output_type": "display_data"
    }
   ],
   "source": [
    "# Plot ROC curve of RandomSearchCV model\n",
    "base_fpr, base_tpr, _ = roc_curve(y_test, [1 for _ in range(len(y_test))])\n",
    "model_fpr, model_tpr, _ = roc_curve(y_test, probs2)\n",
    "plt.figure(figsize = (8, 6))\n",
    "plt.rcParams['font.size'] = 16\n",
    "# Plot both curves\n",
    "plt.plot(base_fpr, base_tpr, 'b', label = 'baseline')\n",
    "plt.plot(model_fpr, model_tpr, 'r', label = 'model')\n",
    "plt.legend();\n",
    "plt.xlabel('False Positive Rate');\n",
    "plt.ylabel('True Positive Rate'); plt.title('ROC Curve');\n",
    "plt.show();"
   ]
  },
  {
   "cell_type": "markdown",
   "id": "39f98b21",
   "metadata": {},
   "source": [
    "As we can see, after running a RandomSearchCV, we were were able to increase the test ROC AUC from 0.975 to 0.991!\n",
    "\n",
    "The best parameters are as followed:\n",
    "\n",
    "- 'n_estimators': 50\n",
    "- 'min_samples_split': 2\n",
    "- 'min_samples_leaf': 1\n",
    "- 'max_features': 'sqrt'\n",
    "- 'max_depth': None\n",
    "- 'bootstrap': True\n",
    "\n",
    "But, because this dataset has such an imbalanced class set, the AUC is not the proper metric to consider here. For this dataset, we should actually be focusing more on the precision and recall percentages and seeing how we can increase those from 0.96 and 0.79, respectively. \n",
    "\n",
    "In order to do that, we will attempt to over sample the dataset for more fraudulent transactions"
   ]
  },
  {
   "cell_type": "markdown",
   "id": "bd99e9e4",
   "metadata": {},
   "source": [
    "# Over-sampling for fraud"
   ]
  },
  {
   "cell_type": "code",
   "execution_count": 6,
   "id": "751feb82",
   "metadata": {},
   "outputs": [],
   "source": [
    "from imblearn.over_sampling import SMOTE # import SMOTE - Synthetic Minority Oversampling Technique\n",
    "from collections import Counter"
   ]
  },
  {
   "cell_type": "code",
   "execution_count": 13,
   "id": "947ab42f",
   "metadata": {},
   "outputs": [
    {
     "name": "stdout",
     "output_type": "stream",
     "text": [
      "Counter({0: 6354407, 1: 6354407})\n"
     ]
    }
   ],
   "source": [
    "oversample = SMOTE() \n",
    "X,Y = oversample.fit_resample(features,labels)\n",
    "counter = Counter(Y)\n",
    "print(counter)"
   ]
  },
  {
   "cell_type": "markdown",
   "id": "afb18fae",
   "metadata": {},
   "source": [
    "As we can see here, we now have a dataset where there are 50% good transactions and 50% bad transactions\n",
    "\n",
    "Lets see what a random forest model run with this dataset looks like"
   ]
  },
  {
   "cell_type": "code",
   "execution_count": 14,
   "id": "041b42aa",
   "metadata": {},
   "outputs": [],
   "source": [
    "X_train, X_test, y_train, y_test = train_test_split(X, \n",
    "                                                    Y, test_size=0.25, \n",
    "                                                    random_state=42)"
   ]
  },
  {
   "cell_type": "code",
   "execution_count": 15,
   "id": "2ece272a",
   "metadata": {},
   "outputs": [],
   "source": [
    "RF_pipe = make_pipeline(\n",
    "    StandardScaler(),\n",
    "    RandomForestClassifier(random_state=42, n_estimators=10)\n",
    ")"
   ]
  },
  {
   "cell_type": "code",
   "execution_count": 19,
   "id": "365e2816",
   "metadata": {},
   "outputs": [],
   "source": [
    "# Create dict for metrics that we want to focus on because we don't really care too much about AUC\n",
    "scoring = {'accuracy' : make_scorer(accuracy_score), \n",
    "           'precision' : make_scorer(precision_score),\n",
    "           'recall' : make_scorer(recall_score), \n",
    "           'f1_score' : make_scorer(f1_score)}"
   ]
  },
  {
   "cell_type": "code",
   "execution_count": 24,
   "id": "ef7a9599",
   "metadata": {},
   "outputs": [],
   "source": [
    "rf_default_cv_results = cross_validate(RF_pipe, \n",
    "                                        X_train, \n",
    "                                        y_train, \n",
    "                                        cv=5, \n",
    "                                        scoring=scoring)"
   ]
  },
  {
   "cell_type": "code",
   "execution_count": 33,
   "id": "c2cc44ff",
   "metadata": {},
   "outputs": [
    {
     "name": "stdout",
     "output_type": "stream",
     "text": [
      "The mean of fit_time is: 159.66723408699036\n",
      "The mean of score_time is: 3.9972143173217773\n",
      "The mean of test_accuracy is: 0.9995326078175669\n",
      "The mean of test_precision is: 0.9992785210597978\n",
      "The mean of test_recall is: 0.9997870133085739\n",
      "The mean of test_f1_score is: 0.9995327024166955\n"
     ]
    }
   ],
   "source": [
    "# Print out the mean results from our cross validation RF model\n",
    "for k,v in rf_default_cv_results.items():\n",
    "    print('The mean of '+str(k)+' is: '+str(np.mean(rf_default_cv_results[k])))"
   ]
  },
  {
   "cell_type": "markdown",
   "id": "c6daee90",
   "metadata": {},
   "source": [
    "Based on what we can see from above, we get pretty close to a .99 score for almost all the important metrics that we are focusing on, which are precision, recall and the f1 score\n",
    "\n",
    "Out of curiosity, I want to see what the classification report would look like if we run just a normal random forest model"
   ]
  },
  {
   "cell_type": "code",
   "execution_count": 34,
   "id": "79d976fe",
   "metadata": {},
   "outputs": [
    {
     "data": {
      "text/plain": [
       "RandomForestClassifier(n_estimators=10, random_state=42)"
      ]
     },
     "execution_count": 34,
     "metadata": {},
     "output_type": "execute_result"
    }
   ],
   "source": [
    "rf = RandomForestClassifier(n_estimators = 10, random_state = 42)\n",
    "rf.fit(X_train, y_train)"
   ]
  },
  {
   "cell_type": "code",
   "execution_count": 36,
   "id": "234084da",
   "metadata": {},
   "outputs": [],
   "source": [
    "train_probs = rf.predict_proba(X_train)[:,1] \n",
    "probs = rf.predict_proba(X_test)[:, 1]\n",
    "y_pred_test = rf.predict(X_test)"
   ]
  },
  {
   "cell_type": "code",
   "execution_count": 37,
   "id": "dd5d40e4",
   "metadata": {
    "scrolled": true
   },
   "outputs": [
    {
     "name": "stdout",
     "output_type": "stream",
     "text": [
      "              precision    recall  f1-score   support\n",
      "\n",
      "           0       1.00      1.00      1.00   1588353\n",
      "           1       1.00      1.00      1.00   1588851\n",
      "\n",
      "    accuracy                           1.00   3177204\n",
      "   macro avg       1.00      1.00      1.00   3177204\n",
      "weighted avg       1.00      1.00      1.00   3177204\n",
      "\n"
     ]
    }
   ],
   "source": [
    "# View the classification report for oversampled test data and predictions\n",
    "print(classification_report(y_test, y_pred_test))"
   ]
  },
  {
   "cell_type": "markdown",
   "id": "106401e3",
   "metadata": {},
   "source": [
    "With everything being at 100% for precision/recall/f1-score, that seems a little bit fishy. Let's test out under-sampling for fraud"
   ]
  },
  {
   "cell_type": "markdown",
   "id": "744fe6e8",
   "metadata": {},
   "source": [
    "# Under-sampling for fraud"
   ]
  },
  {
   "cell_type": "code",
   "execution_count": 10,
   "id": "03a91d0a",
   "metadata": {},
   "outputs": [],
   "source": [
    "# testing this becuase CNN takes too long and NCR combines both CNN and ENN techniques\n",
    "from imblearn.under_sampling import NeighbourhoodCleaningRule"
   ]
  },
  {
   "cell_type": "code",
   "execution_count": 11,
   "id": "3552f9dc",
   "metadata": {},
   "outputs": [
    {
     "name": "stdout",
     "output_type": "stream",
     "text": [
      "Counter({0: 6348312, 1: 8213})\n"
     ]
    }
   ],
   "source": [
    "undersample = NeighbourhoodCleaningRule(n_neighbors=3, threshold_cleaning=0.5)\n",
    "X,Y = undersample.fit_resample(features,labels)\n",
    "counter = Counter(Y)\n",
    "print(counter)"
   ]
  },
  {
   "cell_type": "code",
   "execution_count": 13,
   "id": "0cb1e88a",
   "metadata": {},
   "outputs": [],
   "source": [
    "X_train, X_test, y_train, y_test = train_test_split(X, \n",
    "                                                    Y, test_size=0.25, \n",
    "                                                    random_state=42)"
   ]
  },
  {
   "cell_type": "code",
   "execution_count": 14,
   "id": "b36ae614",
   "metadata": {
    "scrolled": true
   },
   "outputs": [
    {
     "data": {
      "text/plain": [
       "RandomForestClassifier(n_estimators=10, random_state=42)"
      ]
     },
     "execution_count": 14,
     "metadata": {},
     "output_type": "execute_result"
    }
   ],
   "source": [
    "rf = RandomForestClassifier(n_estimators = 10, random_state = 42)\n",
    "rf.fit(X_train, y_train)"
   ]
  },
  {
   "cell_type": "code",
   "execution_count": 15,
   "id": "adbec42d",
   "metadata": {},
   "outputs": [],
   "source": [
    "train_probs = rf.predict_proba(X_train)[:,1] \n",
    "probs = rf.predict_proba(X_test)[:, 1]\n",
    "y_pred_test = rf.predict(X_test)"
   ]
  },
  {
   "cell_type": "code",
   "execution_count": 16,
   "id": "44a5394e",
   "metadata": {},
   "outputs": [
    {
     "name": "stdout",
     "output_type": "stream",
     "text": [
      "              precision    recall  f1-score   support\n",
      "\n",
      "           0       1.00      1.00      1.00   1587074\n",
      "           1       0.98      0.80      0.88      2058\n",
      "\n",
      "    accuracy                           1.00   1589132\n",
      "   macro avg       0.99      0.90      0.94   1589132\n",
      "weighted avg       1.00      1.00      1.00   1589132\n",
      "\n"
     ]
    }
   ],
   "source": [
    "# View the classification report for oversampled test data and predictions\n",
    "print(classification_report(y_test, y_pred_test))"
   ]
  },
  {
   "cell_type": "markdown",
   "id": "dd348c83",
   "metadata": {},
   "source": [
    "Under sampling using NeighbourhoodCleaningRule improves precision, recall and f1-score by .02"
   ]
  },
  {
   "cell_type": "code",
   "execution_count": null,
   "id": "539e231d",
   "metadata": {},
   "outputs": [],
   "source": []
  }
 ],
 "metadata": {
  "kernelspec": {
   "display_name": "Python 3 (ipykernel)",
   "language": "python",
   "name": "python3"
  },
  "language_info": {
   "codemirror_mode": {
    "name": "ipython",
    "version": 3
   },
   "file_extension": ".py",
   "mimetype": "text/x-python",
   "name": "python",
   "nbconvert_exporter": "python",
   "pygments_lexer": "ipython3",
   "version": "3.9.12"
  }
 },
 "nbformat": 4,
 "nbformat_minor": 5
}
